{
 "cells": [
  {
   "cell_type": "code",
   "execution_count": 110,
   "id": "92befd19-2a63-4b50-956c-47dd4e032e9f",
   "metadata": {},
   "outputs": [],
   "source": [
    "import pandas as pd\n",
    "import numpy as np\n",
    "from scipy.stats import norm"
   ]
  },
  {
   "cell_type": "code",
   "execution_count": 111,
   "id": "649da98b-68c1-4cc0-9974-39dec6aabf79",
   "metadata": {},
   "outputs": [],
   "source": [
    "df_games = pd.read_csv('./data/EPL.csv',delimiter=',',header='infer')"
   ]
  },
  {
   "cell_type": "code",
   "execution_count": 112,
   "id": "e28a5ca2-cf44-481f-b06a-3c177e02ddd2",
   "metadata": {},
   "outputs": [],
   "source": [
    "# Drop all the unrequired fields (cleanup)\n",
    "columns_to_remove = ['B365H', 'B365D', 'B365A', 'BWH', 'BWD', 'BWA', 'IWH', 'IWD', 'IWA', 'PSH', 'PSD', 'PSA', 'WHH', 'WHD', 'WHA', 'VCH', 'VCD', 'VCA', 'MaxH', 'MaxD', 'MaxA', 'AvgH', 'AvgD', 'AvgA', 'B365>2.5', 'B365<2.5', 'P>2.5', 'P<2.5', 'Max>2.5', 'Max<2.5', 'Avg>2.5', 'Avg<2.5', 'AHh', 'B365AHH', 'B365AHA', 'PAHH', 'PAHA', 'MaxAHH', 'MaxAHA', 'AvgAHH', 'AvgAHA', 'B365CH', 'B365CD', 'B365CA', 'BWCH', 'BWCD', 'BWCA', 'IWCH', 'IWCD', 'IWCA', 'PSCH', 'PSCD', 'PSCA', 'WHCH', 'WHCD', 'WHCA', 'VCCH', 'VCCD', 'VCCA', 'MaxCH', 'MaxCD', 'MaxCA', 'AvgCH', 'AvgCD', 'AvgCA', 'B365C>2.5', 'B365C<2.5', 'PC>2.5', 'PC<2.5', 'MaxC>2.5', 'MaxC<2.5', 'AvgC>2.5', 'AvgC<2.5', 'AHCh', 'B365CAHH', 'B365CAHA', 'PCAHH', 'PCAHA', 'MaxCAHH', 'MaxCAHA', 'AvgCAHH', 'AvgCAHA']\n",
    "columns_to_remove = [col for col in columns_to_remove if col in df_games.columns]\n",
    "df_games = df_games.drop(columns_to_remove, axis=1)"
   ]
  },
  {
   "cell_type": "code",
   "execution_count": 118,
   "id": "eeb820d0-a28d-4b98-96da-ff76703fe64f",
   "metadata": {},
   "outputs": [],
   "source": [
    "# Get all the past game corners for both teams and add them together\n",
    "# Teams\n",
    "team_a = 'Man City'\n",
    "team_b = 'Wolves'\n",
    "\n",
    "# Team A Home Corners\n",
    "AHC = df_games.loc[df_games['HomeTeam'] == team_a]['HC']\n",
    "# Team A Away Corners\n",
    "AAC = df_games.loc[df_games['AwayTeam'] == team_a]['AC']\n",
    "\n",
    "# Team B Home Corners\n",
    "BHC = df_games.loc[df_games['HomeTeam'] == team_b]['HC']\n",
    "# Team B Away Corners\n",
    "BAC = df_games.loc[df_games['AwayTeam'] == team_b]['AC']\n",
    "\n",
    "A_corners = pd.concat([AHC, AAC], axis=0)\n",
    "B_corners = pd.concat([AHC, AAC], axis=0)\n",
    "\n",
    "df_all_corners = A_corners + B_corners"
   ]
  },
  {
   "cell_type": "code",
   "execution_count": 119,
   "id": "a05d9a4f-bb60-42c7-a19b-9387e7019639",
   "metadata": {},
   "outputs": [
    {
     "name": "stdout",
     "output_type": "stream",
     "text": [
      "Mean of Total Corners: 14.941176470588236\n",
      "Standard Deviation of Total Corners: 8.00356426838802\n",
      "Probability of at least 8 corners in a game: 0.8071\n"
     ]
    }
   ],
   "source": [
    "mean_total_corners = df_all_corners.mean()\n",
    "std_dev_total_corners = df_all_corners.std()\n",
    "prob_at_least_8 = 1 - norm.cdf(8, mean_total_corners, std_dev_total_corners)\n",
    "\n",
    "print(f\"Mean of Total Corners: {mean_total_corners}\")\n",
    "print(f\"Standard Deviation of Total Corners: {std_dev_total_corners}\")\n",
    "print(f\"Probability of at least 8 corners in a game: {prob_at_least_8:.4f}\")"
   ]
  },
  {
   "cell_type": "code",
   "execution_count": null,
   "id": "3aaf74c3-39f8-4466-a088-84e9f475c607",
   "metadata": {},
   "outputs": [],
   "source": []
  }
 ],
 "metadata": {
  "kernelspec": {
   "display_name": "Python 3 (ipykernel)",
   "language": "python",
   "name": "python3"
  },
  "language_info": {
   "codemirror_mode": {
    "name": "ipython",
    "version": 3
   },
   "file_extension": ".py",
   "mimetype": "text/x-python",
   "name": "python",
   "nbconvert_exporter": "python",
   "pygments_lexer": "ipython3",
   "version": "3.10.12"
  }
 },
 "nbformat": 4,
 "nbformat_minor": 5
}
