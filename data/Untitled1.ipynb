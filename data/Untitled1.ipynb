{
 "cells": [
  {
   "cell_type": "code",
   "execution_count": 2,
   "id": "881f2a05-4017-4cac-b93a-58e0263655f5",
   "metadata": {},
   "outputs": [
    {
     "name": "stdout",
     "output_type": "stream",
     "text": [
      "0     15\n",
      "1     18\n",
      "2     11\n",
      "3      8\n",
      "4     10\n",
      "5     12\n",
      "6      5\n",
      "7     12\n",
      "8     10\n",
      "9      7\n",
      "10    15\n",
      "11    16\n",
      "12    11\n",
      "13    14\n",
      "14    14\n",
      "15    10\n",
      "16     6\n",
      "17    11\n",
      "18    11\n",
      "19     4\n",
      "20     8\n",
      "21    15\n",
      "22    11\n",
      "23    10\n",
      "24    11\n",
      "25    10\n",
      "26    10\n",
      "27     8\n",
      "28    10\n",
      "29     6\n",
      "30     6\n",
      "31     5\n",
      "32    10\n",
      "33    10\n",
      "34    10\n",
      "Name: Total Corners, dtype: int64\n",
      "Mean of Total Corners: 10.285714285714286\n",
      "Standard Deviation of Total Corners: 3.3128220471323817\n",
      "Probability of at least 8 corners in a game: 0.7549\n"
     ]
    }
   ],
   "source": [
    "import pandas as pd\n",
    "import numpy as np\n",
    "from scipy.stats import norm\n",
    "\n",
    "# Define the data\n",
    "data = {\n",
    "    'Team A': [6, 8, 4, 3, 6, 8, 2, 6, 4, 0, 8, 3, 3, 6, 8, 3, 2, 10, 7, 1, 3, 8, 3, 6, 5, 4, 8, 4, 9, 3, 4, 3, 6, 4, 6],\n",
    "    'Team B': [9, 10, 7, 5, 4, 4, 3, 6, 6, 7, 7, 13, 8, 8, 6, 7, 4, 1, 4, 3, 5, 7, 8, 4, 6, 6, 2, 4, 1, 3, 2, 2, 4, 6, 4]\n",
    "}\n",
    "\n",
    "# Create DataFrame\n",
    "df = pd.DataFrame(data)\n",
    "\n",
    "# Calculate total corners in each game\n",
    "df['Total Corners'] = df['Team A'] + df['Team B']\n",
    "\n",
    "print(df['Total Corners'])\n",
    "\n",
    "# Calculate mean and standard deviation of total corners\n",
    "mean_total_corners = df['Total Corners'].mean()\n",
    "std_dev_total_corners = df['Total Corners'].std()\n",
    "\n",
    "# Print mean and standard deviation\n",
    "print(f\"Mean of Total Corners: {mean_total_corners}\")\n",
    "print(f\"Standard Deviation of Total Corners: {std_dev_total_corners}\")\n",
    "\n",
    "# Calculate probability of having at least 8 corners in a game\n",
    "# P(X >= 8) = 1 - P(X < 8)\n",
    "# We use the cumulative distribution function (CDF) of the normal distribution.\n",
    "prob_at_least_8 = 1 - norm.cdf(8, mean_total_corners, std_dev_total_corners)\n",
    "\n",
    "print(f\"Probability of at least 8 corners in a game: {prob_at_least_8:.4f}\")\n"
   ]
  },
  {
   "cell_type": "code",
   "execution_count": null,
   "id": "b94aedec-2eff-4459-80bd-e329a1589451",
   "metadata": {},
   "outputs": [],
   "source": []
  }
 ],
 "metadata": {
  "kernelspec": {
   "display_name": "Python 3 (ipykernel)",
   "language": "python",
   "name": "python3"
  },
  "language_info": {
   "codemirror_mode": {
    "name": "ipython",
    "version": 3
   },
   "file_extension": ".py",
   "mimetype": "text/x-python",
   "name": "python",
   "nbconvert_exporter": "python",
   "pygments_lexer": "ipython3",
   "version": "3.10.12"
  }
 },
 "nbformat": 4,
 "nbformat_minor": 5
}
