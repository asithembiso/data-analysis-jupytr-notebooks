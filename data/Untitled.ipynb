{
 "cells": [
  {
   "cell_type": "code",
   "execution_count": 1,
   "id": "f9a4730d-795a-413a-9d55-33f877dcac48",
   "metadata": {},
   "outputs": [
    {
     "name": "stdout",
     "output_type": "stream",
     "text": [
      "Probability of next game having 5 or more shots on target: 0.7612493504037935\n"
     ]
    },
    {
     "name": "stderr",
     "output_type": "stream",
     "text": [
      "/home/athi/jupyter-notebooks/.env/lib/python3.10/site-packages/sklearn/base.py:493: UserWarning: X does not have valid feature names, but LogisticRegression was fitted with feature names\n",
      "  warnings.warn(\n"
     ]
    }
   ],
   "source": [
    "import numpy as np\n",
    "import pandas as pd\n",
    "from sklearn.model_selection import train_test_split\n",
    "from sklearn.linear_model import LogisticRegression\n",
    "\n",
    "# Shots on target per game\n",
    "shots = np.array([4, 5, 4, 6, 8, 5, 4, 9, 4, 4, 3, 5, 11, 8, 1, 11, 13])\n",
    "\n",
    "# Create a DataFrame\n",
    "df = pd.DataFrame(shots, columns=['Shots'])\n",
    "\n",
    "# Add a new column 'Target' where value is 1 if shots>=5 else 0\n",
    "df['Target'] = df['Shots'].apply(lambda x: 1 if x >= 5 else 0)\n",
    "\n",
    "# Split the data into training and test sets\n",
    "X_train, X_test, y_train, y_test = train_test_split(df[['Shots']], df['Target'], test_size=0.2, random_state=42)\n",
    "\n",
    "# Create a Logistic Regression model\n",
    "model = LogisticRegression()\n",
    "\n",
    "# Train the model\n",
    "model.fit(X_train, y_train)\n",
    "\n",
    "# Now you can use the model to predict the probability of the next game having 5 or more shots on target\n",
    "# For example, if the next game has 6 shots on target\n",
    "next_game_shots = np.array([[6]])\n",
    "prob = model.predict_proba(next_game_shots)\n",
    "\n",
    "print(f\"Probability of next game having 5 or more shots on target: {prob[0][1]}\")"
   ]
  },
  {
   "cell_type": "code",
   "execution_count": null,
   "id": "35a43116-dd9a-472f-b02a-ed5ef70c3b4e",
   "metadata": {},
   "outputs": [],
   "source": []
  }
 ],
 "metadata": {
  "kernelspec": {
   "display_name": "Python 3 (ipykernel)",
   "language": "python",
   "name": "python3"
  },
  "language_info": {
   "codemirror_mode": {
    "name": "ipython",
    "version": 3
   },
   "file_extension": ".py",
   "mimetype": "text/x-python",
   "name": "python",
   "nbconvert_exporter": "python",
   "pygments_lexer": "ipython3",
   "version": "3.10.12"
  }
 },
 "nbformat": 4,
 "nbformat_minor": 5
}
